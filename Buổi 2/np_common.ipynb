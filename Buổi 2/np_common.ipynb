{
 "cells": [
  {
   "cell_type": "markdown",
   "id": "956ee2f6",
   "metadata": {},
   "source": [
    "# 1. np.array() - Tạo mảng từ danh sách python\n",
    "- Được dùng để tạo mảng từ danh sách có sẵn của Python được tạo từ trước.\n",
    "- Hữu ích trong việc tạo mảng từ danh sách có sẵn của Python trước khi dùng các hàm có sẵn của numpy để tăng tốc sử lý\n",
    "\n",
    "Documentation: [numpy.array](https://numpy.org/doc/stable/reference/generated/numpy.array.html)"
   ]
  },
  {
   "cell_type": "code",
   "execution_count": 20,
   "id": "eb774062",
   "metadata": {},
   "outputs": [
    {
     "name": "stdout",
     "output_type": "stream",
     "text": [
      "Result: [1 2 3 4 5]\n"
     ]
    }
   ],
   "source": [
    "import numpy as np\n",
    "\n",
    "list_data = [1, 2, 3, 4, 5]\n",
    "arr = np.array(list_data)\n",
    "\n",
    "print(\"Result:\", arr)"
   ]
  },
  {
   "cell_type": "markdown",
   "id": "e0624aa8",
   "metadata": {},
   "source": [
    "# 2. np.zeros() - Tạo mảng với mỗi phần tử là 0\n",
    "- Được dùng để tạo mảng với mỗi phần tử trong mảng là 0 trước khi tính toán phức tạp tiếp theo.\n",
    "- Hữu ích khi cần tạo mảng trống với giá trị mặc định là 0 trước khi xử lý các thuật toán phức tạp (Ví dụ: Longest common subsequence,...).\n",
    "\n",
    "Documentation: [numpy.zeros](https://numpy.org/doc/stable/reference/generated/numpy.zeros.html)"
   ]
  },
  {
   "cell_type": "code",
   "execution_count": 21,
   "id": "0575215f",
   "metadata": {},
   "outputs": [
    {
     "name": "stdout",
     "output_type": "stream",
     "text": [
      "\n",
      "Result one dimension:\n",
      " [0. 0.]\n",
      "\n",
      "Result two dimensions:\n",
      " [[0. 0. 0.]\n",
      " [0. 0. 0.]]\n",
      "\n",
      "Result three dimensions:\n",
      " [[[0. 0. 0. 0.]\n",
      "  [0. 0. 0. 0.]\n",
      "  [0. 0. 0. 0.]]\n",
      "\n",
      " [[0. 0. 0. 0.]\n",
      "  [0. 0. 0. 0.]\n",
      "  [0. 0. 0. 0.]]]\n"
     ]
    }
   ],
   "source": [
    "import numpy as np\n",
    "\n",
    "one_dimension_zeros_arr = np.zeros(2) # Creates array of 2 zeros\n",
    "print(\"\\nResult one dimension:\\n\", one_dimension_zeros_arr)\n",
    "\n",
    "two_dimensions_zeros_arr = np.zeros((2, 3))  # Creates a 3x4 array of zeros\n",
    "print(\"\\nResult two dimensions:\\n\", two_dimensions_zeros_arr)\n",
    "\n",
    "three_dimensions_zeros_arr = np.zeros((2, 3, 4))  # Creates a 2x3x5 array of zeros\n",
    "print(\"\\nResult three dimensions:\\n\", three_dimensions_zeros_arr)"
   ]
  },
  {
   "cell_type": "markdown",
   "id": "2e67fbe1",
   "metadata": {},
   "source": [
    "# 3. np.ones() - Tạo mảng với mỗi phần tử là 1\n",
    "- Được dùng để tạo mảng với mỗi phần tử trong mảng là 1 trước khi tính toán phức tạp tiếp theo\n",
    "- Hữu ích khi cần tạo mảng trống với giá trị mặc định là 1 trước khi xử lý các thuật toán phức tạp (Ví dụ: Product of Array Except Self,...).\n",
    "\n",
    "Documentation: [numpy.ones](https://numpy.org/doc/stable/reference/generated/numpy.ones.html)"
   ]
  },
  {
   "cell_type": "code",
   "execution_count": 22,
   "id": "66fc6530",
   "metadata": {},
   "outputs": [
    {
     "name": "stdout",
     "output_type": "stream",
     "text": [
      "\n",
      "Result one dimension:\n",
      " [1. 1.]\n",
      "\n",
      "Result two dimensions:\n",
      " [[1. 1. 1.]\n",
      " [1. 1. 1.]]\n",
      "\n",
      "Result three dimensions:\n",
      " [[[1. 1. 1. 1.]\n",
      "  [1. 1. 1. 1.]\n",
      "  [1. 1. 1. 1.]]\n",
      "\n",
      " [[1. 1. 1. 1.]\n",
      "  [1. 1. 1. 1.]\n",
      "  [1. 1. 1. 1.]]]\n"
     ]
    }
   ],
   "source": [
    "import numpy as np\n",
    "\n",
    "one_dimension_ones_arr = np.ones(2) # Creates array of 2 ones\n",
    "print(\"\\nResult one dimension:\\n\", one_dimension_ones_arr)\n",
    "\n",
    "two_dimensions_ones_arr = np.ones((2, 3))  # Creates a 3x4 array of ones\n",
    "print(\"\\nResult two dimensions:\\n\", two_dimensions_ones_arr)\n",
    "\n",
    "three_dimensions_ones_arr = np.ones((2, 3, 4))  # Creates a 2x3x5 array of ones\n",
    "print(\"\\nResult three dimensions:\\n\", three_dimensions_ones_arr)"
   ]
  },
  {
   "cell_type": "markdown",
   "id": "cacf5ea0",
   "metadata": {},
   "source": [
    "# 4. np.arange() - Tạo mảng có khoảng cách định sẵn\n",
    "- Được dùng để tạo mảng với những giá trị có trình tự cho trước. Giống với hàm range() trong Python\n",
    "- Hữu ích trong việc lưới tọa độ để vẽ và trực quan hóa (Vẽ đồ thị trong đó trục x, y hiện thị giá trị tăng không đổi), v.v...\n",
    "\n",
    "Documentation: [numpy.arange](https://numpy.org/doc/stable/reference/generated/numpy.arange.html)"
   ]
  },
  {
   "cell_type": "code",
   "execution_count": 23,
   "id": "a42cd33f",
   "metadata": {},
   "outputs": [
    {
     "name": "stdout",
     "output_type": "stream",
     "text": [
      "\n",
      "Result start 0, stop 10, step 1:\n",
      " [0 1 2 3 4 5 6 7 8 9]\n",
      "\n",
      "Result start 0, stop 10, step 2:\n",
      " [0 2 4 6 8]\n",
      "\n",
      "Result start 0, stop 10, step 3:\n",
      " [0 3 6 9]\n"
     ]
    }
   ],
   "source": [
    "import numpy as np\n",
    "\n",
    "sequence = np.arange(0, 10, 1)  # Start 0, stop 10, step 1\n",
    "print(\"\\nResult start 0, stop 10, step 1:\\n\", sequence)\n",
    "\n",
    "sequence = np.arange(0, 10, 2)  # Start 0, stop 10, step 2\n",
    "print(\"\\nResult start 0, stop 10, step 2:\\n\", sequence)\n",
    "\n",
    "sequence = np.arange(0, 10, 3)  # Start 0, stop 10, step 3\n",
    "print(\"\\nResult start 0, stop 10, step 3:\\n\", sequence)"
   ]
  },
  {
   "cell_type": "markdown",
   "id": "72184dab",
   "metadata": {},
   "source": [
    "# 5. np.linspace() - Tạo mảng có phân bố đều\n",
    "- Được dùng để tạo mảng có phân bố đều.\n",
    "- Hữu ích trong việc cần tạo mảng có phân bố đều để thao túng dữ liệu (Color mapping, Parametric curves,...)\n",
    "\n",
    "Documentation: [numpy.linspace](https://numpy.org/doc/stable/reference/generated/numpy.linspace.html)"
   ]
  },
  {
   "cell_type": "code",
   "execution_count": 24,
   "id": "f5451243",
   "metadata": {},
   "outputs": [
    {
     "name": "stdout",
     "output_type": "stream",
     "text": [
      "\n",
      "Result start 7, stop 12, 6 points:\n",
      " [ 7.  8.  9. 10. 11. 12.]\n",
      "\n",
      "Result start 1.2, stop 1.6, 5 points:\n",
      " [1.2 1.3 1.4 1.5 1.6]\n",
      "\n",
      "Result start -9, stop -2, 8 points:\n",
      " [-9. -8. -7. -6. -5. -4. -3. -2.]\n"
     ]
    }
   ],
   "source": [
    "import numpy as np\n",
    "\n",
    "linear_space = np.linspace(7, 12, 6)  # Start 7, stop 12, 5 points\n",
    "print(\"\\nResult start 7, stop 12, 6 points:\\n\", linear_space)\n",
    "\n",
    "linear_space = np.linspace(1.2, 1.6, 5)  # Start 1.2, stop 1.6, 5 points\n",
    "print(\"\\nResult start 1.2, stop 1.6, 5 points:\\n\", linear_space)\n",
    "\n",
    "linear_space = np.linspace(-9, -2, 8)  # Start -9, stop -2, 8 points\n",
    "print(\"\\nResult start -9, stop -2, 8 points:\\n\", linear_space)"
   ]
  },
  {
   "cell_type": "markdown",
   "id": "0fb55875",
   "metadata": {},
   "source": [
    "# 6. np.random.rand() - Tạo mảng với giá trị ngẫu nhiên\n",
    "- Được dùng cho việc mô phỏng hoặc khởi tạo mạng lưới nơ-ron.\n",
    "- Hữu ích trong việc cần tạo mảng ngẫu nhiên để thao túng dữ liệu (Adding Noise,...)\n",
    "\n",
    "Documentation: [numpy.random.rand](https://numpy.org/doc/stable/reference/random/generated/numpy.random.rand.html)"
   ]
  },
  {
   "cell_type": "code",
   "execution_count": 25,
   "id": "7c3f821d",
   "metadata": {},
   "outputs": [
    {
     "name": "stdout",
     "output_type": "stream",
     "text": [
      "\n",
      "Result one dimension:\n",
      " [0.41706694 0.07180418 0.95508263]\n",
      "\n",
      "Result two dimension:\n",
      " [[0.60260285 0.47723412]\n",
      " [0.91102565 0.97160214]\n",
      " [0.92288556 0.96933307]]\n",
      "\n",
      "Result three dimension:\n",
      " [[[0.69920785 0.48766293 0.15931375 0.97965459]\n",
      "  [0.56341049 0.82458469 0.81873833 0.37131036]]\n",
      "\n",
      " [[0.91056969 0.67612977 0.55785386 0.43673449]\n",
      "  [0.17554991 0.03888842 0.7972759  0.78916292]]\n",
      "\n",
      " [[0.59205309 0.87995795 0.26038588 0.62817195]\n",
      "  [0.75912537 0.25029342 0.39119964 0.45556765]]]\n"
     ]
    }
   ],
   "source": [
    "import numpy as np\n",
    "\n",
    "random_array = np.random.rand(3)  # one dimension array of random values between 0 and 1\n",
    "print(\"\\nResult one dimension:\\n\", random_array)\n",
    "\n",
    "random_array = np.random.rand(3, 2)  # two dimensions array of random values between 0 and 1\n",
    "print(\"\\nResult two dimension:\\n\", random_array)\n",
    "\n",
    "random_array = np.random.rand(3, 2, 4)  # three dimensions array of random values between 0 and 1\n",
    "print(\"\\nResult three dimension:\\n\", random_array)"
   ]
  },
  {
   "cell_type": "markdown",
   "id": "364bd389",
   "metadata": {},
   "source": [
    "# 7. np.mean() - Tính trung bình của mảng\n",
    "- Được dùng trong thống kê, phân tích dữ liệu và sử lý tín hiệu\n",
    "- Hữu ích trong việc tính giá trị trung bình một cách nhanh chóng (Image Noise Reduction, Batch Normalization,...)\n",
    "\n",
    "Documentation: [numpy.mean](https://numpy.org/doc/stable/reference/generated/numpy.mean.html)"
   ]
  },
  {
   "cell_type": "code",
   "execution_count": 26,
   "id": "ec460774",
   "metadata": {},
   "outputs": [
    {
     "name": "stdout",
     "output_type": "stream",
     "text": [
      "\n",
      "Result: 3.0\n"
     ]
    }
   ],
   "source": [
    "import numpy as np\n",
    "\n",
    "data = np.array([1, 2, 3, 4, 5])\n",
    "mean_value = np.mean(data)\n",
    "print(\"\\nResult:\", mean_value)"
   ]
  },
  {
   "cell_type": "markdown",
   "id": "1b7a2ffa",
   "metadata": {},
   "source": [
    "# 8. np.median() - Tìm phần tử có giá trị nằm giữa\n",
    "- Được dùng trong thống kê, đặc biệt là với các phân phối lệch\n",
    "- Hữu ích trong việc tìm phần tử có giá trị nằm giữa nhằm mục đích xử lý dữ liệu (Reduce Image Noise,...)\n",
    "\n",
    "Documentation: [numpy.median](https://numpy.org/doc/stable/reference/generated/numpy.median.html)"
   ]
  },
  {
   "cell_type": "code",
   "execution_count": 27,
   "id": "82c6e371",
   "metadata": {},
   "outputs": [
    {
     "name": "stdout",
     "output_type": "stream",
     "text": [
      "\n",
      "Result: 5.0\n"
     ]
    }
   ],
   "source": [
    "import numpy as np\n",
    "\n",
    "skewed_data = np.array([9, 2, 3, 6, 5])\n",
    "median_value = np.median(skewed_data)\n",
    "print(\"\\nResult:\", median_value)"
   ]
  },
  {
   "cell_type": "markdown",
   "id": "27a05dfa",
   "metadata": {},
   "source": [
    "# 9. np.min() and np.max() - Tìm giá trị thấp và cao nhất\n",
    "- Được dùng trong phân tích dữ liệu và tiền sử lý\n",
    "- Hữu ích trong việc tìm giá trị thấp nhất và cao nhất cho việc xử lý dữ liệu (Outlier detection, Calculating ranges and boundaries,...)\n",
    "\n",
    "Documentation: [numpy.min](https://numpy.org/doc/stable/reference/generated/numpy.min.html), [numpy.max](https://numpy.org/doc/stable/reference/generated/numpy.max.html)"
   ]
  },
  {
   "cell_type": "code",
   "execution_count": 28,
   "id": "6fcbf369",
   "metadata": {},
   "outputs": [
    {
     "name": "stdout",
     "output_type": "stream",
     "text": [
      "\n",
      "Result min: 1\n",
      "Result max: 9\n"
     ]
    }
   ],
   "source": [
    "import numpy as np\n",
    "\n",
    "data = [6, 9, 8, 1, 7, 2]\n",
    "\n",
    "min_value = np.min(data)\n",
    "max_value = np.max(data)\n",
    "\n",
    "print(\"\\nResult min:\", min_value)\n",
    "print(\"Result max:\", max_value)"
   ]
  },
  {
   "cell_type": "markdown",
   "id": "27da1236",
   "metadata": {},
   "source": [
    "# 10. np.argmin() and np.argmax() - Tìm vị trí của giá trị thấp và cao nhất\n",
    "- Được dùng để xác định vị trí cực trị trong dữ liệu\n",
    "\n",
    "Documentation: [numpy.min](https://numpy.org/doc/stable/reference/generated/numpy.argmin.html), [numpy.max](https://numpy.org/doc/stable/reference/generated/numpy.argmax.html)"
   ]
  },
  {
   "cell_type": "code",
   "execution_count": 29,
   "id": "135e0489",
   "metadata": {},
   "outputs": [
    {
     "name": "stdout",
     "output_type": "stream",
     "text": [
      "\n",
      "np.argmin(): 3\n",
      "np.argmax(): 1\n"
     ]
    }
   ],
   "source": [
    "import numpy as np\n",
    "\n",
    "data = [6, 9, 8, 1, 7, 2]\n",
    "\n",
    "argmin_value = np.argmin(data)\n",
    "argmax_value = np.argmax(data)\n",
    "\n",
    "print(\"\\nnp.argmin():\", argmin_value)\n",
    "print(\"np.argmax():\", argmax_value)"
   ]
  },
  {
   "cell_type": "markdown",
   "id": "92ad3fb4",
   "metadata": {},
   "source": [
    "# 11. np.sum() - Tính tổng mảng\n",
    "- Được dùng trong thống kê và tổng hợp dữ liệu\n",
    "\n",
    "Documentation: [numpy.sum](https://numpy.org/doc/stable/reference/generated/numpy.sum.html)"
   ]
  },
  {
   "cell_type": "code",
   "execution_count": 30,
   "id": "cc50f7de",
   "metadata": {},
   "outputs": [
    {
     "name": "stdout",
     "output_type": "stream",
     "text": [
      "\n",
      "np.sum(): 15\n"
     ]
    }
   ],
   "source": [
    "import numpy as np\n",
    "\n",
    "data = [1, 2, 3, 4, 5]\n",
    "total = np.sum(data)\n",
    "\n",
    "print(\"\\nnp.sum():\", total)"
   ]
  },
  {
   "cell_type": "markdown",
   "id": "68e57862",
   "metadata": {},
   "source": [
    "# 12. np.sort() - Sắp xếp mảng\n",
    "- Được dùng để sắp xếp dữ liệu để phân tích hoặc trực quan hóa\n",
    "\n",
    "Documentation: [numpy.sort](https://numpy.org/doc/stable/reference/generated/numpy.sort.html)"
   ]
  },
  {
   "cell_type": "code",
   "execution_count": 31,
   "id": "468de64a",
   "metadata": {},
   "outputs": [
    {
     "name": "stdout",
     "output_type": "stream",
     "text": [
      "\n",
      "Original: [3 1 4 1 5 9 2]\n",
      "Result: [1 1 2 3 4 5 9]\n"
     ]
    }
   ],
   "source": [
    "import numpy as np\n",
    "\n",
    "unsorted = np.array([3, 1, 4, 1, 5, 9, 2])\n",
    "sorted_arr = np.sort(unsorted)\n",
    "\n",
    "print(\"\\nOriginal:\", unsorted)\n",
    "print(\"Result:\", sorted_arr)"
   ]
  },
  {
   "cell_type": "markdown",
   "id": "62ab7173",
   "metadata": {},
   "source": [
    "# 13. np.log(), np.log2() and np.log10() - Tính logarit\n",
    "- Được dùng trong chuyển đổi dữ liệu và tính toán khoa học\n",
    "\n",
    "Documentation: [numpy.log](https://numpy.org/doc/stable/reference/generated/numpy.log.html), [numpy.log2](https://numpy.org/doc/stable/reference/generated/numpy.log2.html), [numpy.log10](https://numpy.org/doc/stable/reference/generated/numpy.log10.html)"
   ]
  },
  {
   "cell_type": "code",
   "execution_count": 32,
   "id": "e8970b43",
   "metadata": {},
   "outputs": [
    {
     "name": "stdout",
     "output_type": "stream",
     "text": [
      "\n",
      "Result natural: [0. 1. 2.]\n",
      "Result base 2:  [0. 1. 9.]\n",
      "Result base 10: [0. 1. 2.]\n"
     ]
    }
   ],
   "source": [
    "import numpy as np\n",
    "\n",
    "log_values = np.log(np.array([1, np.e, np.e**2]))  # Natural logarithm\n",
    "log2_values = np.log2(np.array([1, 2, 512]))       # Base-2 logarithm\n",
    "log10_values = np.log10(np.array([1, 10, 100]))    # Base-10 logarithm\n",
    "\n",
    "print(\"\\nResult natural:\", log_values)\n",
    "print(\"Result base 2: \", log2_values)\n",
    "print(\"Result base 10:\", log10_values)"
   ]
  },
  {
   "cell_type": "markdown",
   "id": "7dcf7315",
   "metadata": {},
   "source": [
    "# 14. np.dot() - Tính tích vô hướng\n",
    "- Được dùng trong đại số tuyến tính, xử lý tín hiệu và học máy\n",
    "\n",
    "Documentation: [numpy.dot](https://numpy.org/doc/stable/reference/generated/numpy.dot.html)"
   ]
  },
  {
   "cell_type": "code",
   "execution_count": 33,
   "id": "ce7c6e0e",
   "metadata": {},
   "outputs": [
    {
     "name": "stdout",
     "output_type": "stream",
     "text": [
      "\n",
      "Result dot product: 32\n"
     ]
    }
   ],
   "source": [
    "import numpy as np\n",
    "\n",
    "a = np.array([1, 2, 3])\n",
    "b = np.array([4, 5, 6])\n",
    "dot_product = np.dot(a, b)  # 1*4 + 2*5 + 3*6\n",
    "\n",
    "print(\"\\nResult dot product:\", dot_product)"
   ]
  },
  {
   "cell_type": "markdown",
   "id": "eafa6fea",
   "metadata": {},
   "source": [
    "# 15. np.transpose() - Chuyển vị ma trận\n",
    "- Được dùng trong đại số tuyến tính và định hình lại dữ liệu\n",
    "\n",
    "Documentation: [numpy.transpose](https://numpy.org/doc/stable/reference/generated/numpy.transpose.html)"
   ]
  },
  {
   "cell_type": "code",
   "execution_count": 34,
   "id": "af2488d2",
   "metadata": {},
   "outputs": [
    {
     "name": "stdout",
     "output_type": "stream",
     "text": [
      "\n",
      "Original:\n",
      " [[1 2 3]\n",
      " [4 5 6]]\n",
      "Result:\n",
      " [[1 4]\n",
      " [2 5]\n",
      " [3 6]]\n"
     ]
    }
   ],
   "source": [
    "import numpy as np\n",
    "\n",
    "matrix = np.array([[1, 2, 3], [4, 5, 6]])\n",
    "transposed = np.transpose(matrix)  \n",
    "\n",
    "print(\"\\nOriginal:\\n\", matrix)\n",
    "print(\"Result:\\n\", transposed)"
   ]
  },
  {
   "cell_type": "markdown",
   "id": "6bc878f6",
   "metadata": {},
   "source": [
    "# 16. np.concatenate() - Nối mảng lại thành một mảng\n",
    "- Được dùng khi kết hợp các tập dữ liệu hoặc xây dựng các mảng phức tạp\n",
    "\n",
    "Documentation: [numpy.concatenate](https://numpy.org/doc/stable/reference/generated/numpy.concatenate.html)"
   ]
  },
  {
   "cell_type": "code",
   "execution_count": 35,
   "id": "ec51e72c",
   "metadata": {},
   "outputs": [
    {
     "name": "stdout",
     "output_type": "stream",
     "text": [
      "\n",
      "Result: [1 2 3 4 5 6]\n"
     ]
    }
   ],
   "source": [
    "import numpy as np\n",
    "\n",
    "arr1 = np.array([1, 2, 3])\n",
    "arr2 = np.array([4, 5, 6])\n",
    "concatenated = np.concatenate((arr1, arr2))\n",
    "\n",
    "print(\"\\nResult:\", concatenated)"
   ]
  },
  {
   "cell_type": "markdown",
   "id": "887e5ab7",
   "metadata": {},
   "source": [
    "# 17. np.split() - Tách mảng\n",
    "- Được dùng để chia dữ liệu thành các bộ kiểm tra hoặc huấn luyện hoặc xử lý theo từng đợt\n",
    "\n",
    "Documentation: [numpy.split](https://numpy.org/doc/stable/reference/generated/numpy.split.html)"
   ]
  },
  {
   "cell_type": "code",
   "execution_count": 36,
   "id": "0217a702",
   "metadata": {},
   "outputs": [
    {
     "name": "stdout",
     "output_type": "stream",
     "text": [
      "\n",
      "Original: [0 1 2 3 4 5 6 7 8]\n",
      "Result: [array([0, 1, 2]), array([3, 4, 5]), array([6, 7, 8])]\n"
     ]
    }
   ],
   "source": [
    "import numpy as np\n",
    "\n",
    "array_to_split = np.arange(9)\n",
    "split_result = np.split(array_to_split, 3)  # Split into 3 equal parts\n",
    "\n",
    "print(\"\\nOriginal:\", array_to_split)\n",
    "print(\"Result:\", split_result)"
   ]
  },
  {
   "cell_type": "markdown",
   "id": "1c3db73a",
   "metadata": {},
   "source": [
    "# 18. np.clip() - Giới hạn giá trị trong mảng\n",
    "- Được dùng để giới giạn giá trị trong khoảng cho phép. Nếu giá trị nhỏ/lớn hơn khoảng cho phép, thì giá trị đó sẽ có giá trị nhỏ nhất/lớn nhất tương ứng\n",
    "\n",
    "Documentation: [numpy.clip](https://numpy.org/doc/stable/reference/generated/numpy.clip.html)"
   ]
  },
  {
   "cell_type": "code",
   "execution_count": 37,
   "id": "3aba8420",
   "metadata": {},
   "outputs": [
    {
     "name": "stdout",
     "output_type": "stream",
     "text": [
      "\n",
      "Original: [ 2 11 -1 -4 12  3  6 15  4 -2]\n",
      "Result: [ 2 10  0  0 10  3  6 10  4  0]\n"
     ]
    }
   ],
   "source": [
    "import numpy as np\n",
    "\n",
    "array_to_clip = np.array([2, 11, -1, -4, 12, 3, 6, 15, 4, -2])\n",
    "clipped_array = np.clip(array_to_clip, 0, 10) # giới hạn giá trị từ 0, 10\n",
    "\n",
    "print(\"\\nOriginal:\", array_to_clip)\n",
    "print(\"Result:\", clipped_array)"
   ]
  }
 ],
 "metadata": {
  "kernelspec": {
   "display_name": "demo",
   "language": "python",
   "name": "python3"
  },
  "language_info": {
   "codemirror_mode": {
    "name": "ipython",
    "version": 3
   },
   "file_extension": ".py",
   "mimetype": "text/x-python",
   "name": "python",
   "nbconvert_exporter": "python",
   "pygments_lexer": "ipython3",
   "version": "3.13.2"
  }
 },
 "nbformat": 4,
 "nbformat_minor": 5
}
