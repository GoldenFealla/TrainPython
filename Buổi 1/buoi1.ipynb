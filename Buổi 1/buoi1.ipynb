{
 "cells": [
  {
   "cell_type": "markdown",
   "id": "0796bfa6-af56-47ba-ad7e-1d5814f7f3d9",
   "metadata": {},
   "source": [
    "# Bài 1: Tính tổng các số từ 1 đến n (không dùng hàm sum())"
   ]
  },
  {
   "cell_type": "code",
   "execution_count": 4,
   "id": "0193d1fc-c422-4d9a-afdb-f37c6521709e",
   "metadata": {},
   "outputs": [
    {
     "name": "stdout",
     "output_type": "stream",
     "text": [
      "325\n"
     ]
    }
   ],
   "source": [
    "# Bài 1: Tính tổng các số từ 1 đến n (không dùng hàm sum())\n",
    "def tinh_tong(n):\n",
    "    total = 0\n",
    "    for i in range(1, n+1):\n",
    "        total += i\n",
    "    return total\n",
    "\n",
    "print(tinh_tong(25))"
   ]
  },
  {
   "cell_type": "markdown",
   "id": "8a540afa-649b-4a3e-944e-e97591c06a63",
   "metadata": {},
   "source": [
    "# Bài 2: Kiểm tra số nguyên tố"
   ]
  },
  {
   "cell_type": "code",
   "execution_count": 20,
   "id": "fc7c2db9-1127-428d-b3da-55d08c61922e",
   "metadata": {},
   "outputs": [
    {
     "name": "stdout",
     "output_type": "stream",
     "text": [
      "False\n",
      "True\n",
      "False\n",
      "False\n",
      "True\n"
     ]
    }
   ],
   "source": [
    "def kiem_tra_so_nguyen_to(n):\n",
    "    if n <= 1:\n",
    "        return False\n",
    "    for i in range(2, int(n**0.5) + 1):\n",
    "        if n % i == 0:\n",
    "            return False\n",
    "    return True\n",
    "\n",
    "print(kiem_tra_so_nguyen_to(1))\n",
    "print(kiem_tra_so_nguyen_to(2))\n",
    "print(kiem_tra_so_nguyen_to(4))\n",
    "print(kiem_tra_so_nguyen_to(12))\n",
    "print(kiem_tra_so_nguyen_to(13))"
   ]
  },
  {
   "cell_type": "markdown",
   "id": "43d1ee3b-c865-4720-b549-d95731842e37",
   "metadata": {},
   "source": [
    "# Bài 3: Tính giai thừa (dùng vòng lặp thay vì đệ quy)\n"
   ]
  },
  {
   "cell_type": "code",
   "execution_count": 32,
   "id": "30afc167-ee95-431c-b2ae-1da37e6ac68e",
   "metadata": {},
   "outputs": [
    {
     "name": "stdout",
     "output_type": "stream",
     "text": [
      "1\n",
      "120\n",
      "3628800\n"
     ]
    }
   ],
   "source": [
    "def giai_thua(n):\n",
    "    result = 1\n",
    "    for i in range(1, n+1):\n",
    "        result *= i\n",
    "    return result\n",
    "\n",
    "print(giai_thua(1))\n",
    "print(giai_thua(5))\n",
    "print(giai_thua(10))"
   ]
  },
  {
   "cell_type": "markdown",
   "id": "ca4dece7-a857-4a33-8436-0c719786cbdc",
   "metadata": {},
   "source": [
    "# Bài 4: Đếm số lần xuất hiện của từng ký tự trong chuỗi"
   ]
  },
  {
   "cell_type": "code",
   "execution_count": 40,
   "id": "ea021b0f-7153-408b-96bf-be61c83ceeb5",
   "metadata": {},
   "outputs": [
    {
     "name": "stdout",
     "output_type": "stream",
     "text": [
      "{'d': 1, 'a': 2, 'y': 2, ' ': 3, 'l': 1, 'k': 1, 't': 1, 'u': 1}\n"
     ]
    }
   ],
   "source": [
    "def dem_ky_tu(s):\n",
    "    result = {}\n",
    "    for char in s:\n",
    "        if char in result:\n",
    "            result[char] += 1\n",
    "        else:\n",
    "            result[char] = 1\n",
    "    return result\n",
    "\n",
    "print(dem_ky_tu('day la ky tu'))"
   ]
  },
  {
   "cell_type": "markdown",
   "id": "e021a0c7-b3d2-41bd-85a4-c85f45217ddf",
   "metadata": {},
   "source": [
    "# Bài 5: Tìm số lớn nhất và nhỏ nhất trong danh sách (không dùng min/max)"
   ]
  },
  {
   "cell_type": "code",
   "execution_count": 51,
   "id": "ad70a494-1048-42b0-95c8-ad10b2d58db7",
   "metadata": {},
   "outputs": [
    {
     "name": "stdout",
     "output_type": "stream",
     "text": [
      "(1, 20)\n"
     ]
    }
   ],
   "source": [
    "def tim_min_max(lst):\n",
    "    if not lst:\n",
    "        return None, None\n",
    "    min_val = lst[0]\n",
    "    max_val = lst[0]\n",
    "    for i in range(1, len(lst)):\n",
    "        if lst[i] < min_val:\n",
    "            min_val = lst[i]\n",
    "        if lst[i] > max_val:\n",
    "            max_val = lst[i]\n",
    "    return min_val, max_val\n",
    "\n",
    "list = [3, 5, 1, 2, 9, 11, 20, 13, 1, 2]\n",
    "\n",
    "print(tim_min_max(list))"
   ]
  },
  {
   "cell_type": "markdown",
   "id": "421f77ac-44b1-4e85-99d4-281087c7b464",
   "metadata": {},
   "source": [
    "# Bài 6: Tính tổng và trung bình của danh sách"
   ]
  },
  {
   "cell_type": "code",
   "execution_count": 54,
   "id": "b9a9987e-3b0a-44aa-9ab0-ae1f5ac67c56",
   "metadata": {},
   "outputs": [
    {
     "name": "stdout",
     "output_type": "stream",
     "text": [
      "(67, 6.7)\n"
     ]
    }
   ],
   "source": [
    "def tinh_tong_trung_binh(lst):\n",
    "    tong = 0\n",
    "    for num in lst:\n",
    "        tong += num\n",
    "    \n",
    "    if len(lst) > 0:\n",
    "        trung_binh = tong / len(lst)\n",
    "    else:\n",
    "        trung_binh = 0\n",
    "        \n",
    "    return tong, trung_binh\n",
    "\n",
    "list = [3, 5, 1, 2, 9, 11, 20, 13, 1, 2]\n",
    "print(tinh_tong_trung_binh(list))"
   ]
  }
 ],
 "metadata": {
  "kernelspec": {
   "display_name": "TestPython",
   "language": "python",
   "name": "python3"
  },
  "language_info": {
   "codemirror_mode": {
    "name": "ipython",
    "version": 3
   },
   "file_extension": ".py",
   "mimetype": "text/x-python",
   "name": "python",
   "nbconvert_exporter": "python",
   "pygments_lexer": "ipython3",
   "version": "3.13.2"
  }
 },
 "nbformat": 4,
 "nbformat_minor": 5
}
