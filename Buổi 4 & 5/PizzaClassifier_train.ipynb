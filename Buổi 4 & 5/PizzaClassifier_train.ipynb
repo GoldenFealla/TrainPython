{
 "cells": [
  {
   "cell_type": "code",
   "execution_count": null,
   "metadata": {
    "colab": {
     "base_uri": "https://localhost:8080/"
    },
    "executionInfo": {
     "elapsed": 2619,
     "status": "ok",
     "timestamp": 1745817256764,
     "user": {
      "displayName": "Lê Quốc Khánh Nguyễn",
      "userId": "01151403903774579142"
     },
     "user_tz": -420
    },
    "id": "7mVw2FrqxmD6",
    "outputId": "fa091428-8ebf-4b4d-efb9-2c227560cc09"
   },
   "outputs": [
    {
     "name": "stdout",
     "output_type": "stream",
     "text": [
      "Looking in indexes: https://download.pytorch.org/whl/cu128\n",
      "Requirement already satisfied: torch in /usr/local/lib/python3.11/dist-packages (2.7.0+cu128)\n",
      "Requirement already satisfied: torchvision in /usr/local/lib/python3.11/dist-packages (0.22.0+cu128)\n",
      "Requirement already satisfied: torchaudio in /usr/local/lib/python3.11/dist-packages (2.7.0+cu128)\n",
      "Requirement already satisfied: filelock in /usr/local/lib/python3.11/dist-packages (from torch) (3.18.0)\n",
      "Requirement already satisfied: typing-extensions>=4.10.0 in /usr/local/lib/python3.11/dist-packages (from torch) (4.13.2)\n",
      "Requirement already satisfied: sympy>=1.13.3 in /usr/local/lib/python3.11/dist-packages (from torch) (1.13.3)\n",
      "Requirement already satisfied: networkx in /usr/local/lib/python3.11/dist-packages (from torch) (3.4.2)\n",
      "Requirement already satisfied: jinja2 in /usr/local/lib/python3.11/dist-packages (from torch) (3.1.6)\n",
      "Requirement already satisfied: fsspec in /usr/local/lib/python3.11/dist-packages (from torch) (2025.3.2)\n",
      "Requirement already satisfied: nvidia-cuda-nvrtc-cu12==12.8.61 in /usr/local/lib/python3.11/dist-packages (from torch) (12.8.61)\n",
      "Requirement already satisfied: nvidia-cuda-runtime-cu12==12.8.57 in /usr/local/lib/python3.11/dist-packages (from torch) (12.8.57)\n",
      "Requirement already satisfied: nvidia-cuda-cupti-cu12==12.8.57 in /usr/local/lib/python3.11/dist-packages (from torch) (12.8.57)\n",
      "Requirement already satisfied: nvidia-cudnn-cu12==9.7.1.26 in /usr/local/lib/python3.11/dist-packages (from torch) (9.7.1.26)\n",
      "Requirement already satisfied: nvidia-cublas-cu12==12.8.3.14 in /usr/local/lib/python3.11/dist-packages (from torch) (12.8.3.14)\n",
      "Requirement already satisfied: nvidia-cufft-cu12==11.3.3.41 in /usr/local/lib/python3.11/dist-packages (from torch) (11.3.3.41)\n",
      "Requirement already satisfied: nvidia-curand-cu12==10.3.9.55 in /usr/local/lib/python3.11/dist-packages (from torch) (10.3.9.55)\n",
      "Requirement already satisfied: nvidia-cusolver-cu12==11.7.2.55 in /usr/local/lib/python3.11/dist-packages (from torch) (11.7.2.55)\n",
      "Requirement already satisfied: nvidia-cusparse-cu12==12.5.7.53 in /usr/local/lib/python3.11/dist-packages (from torch) (12.5.7.53)\n",
      "Requirement already satisfied: nvidia-cusparselt-cu12==0.6.3 in /usr/local/lib/python3.11/dist-packages (from torch) (0.6.3)\n",
      "Requirement already satisfied: nvidia-nccl-cu12==2.26.2 in /usr/local/lib/python3.11/dist-packages (from torch) (2.26.2)\n",
      "Requirement already satisfied: nvidia-nvtx-cu12==12.8.55 in /usr/local/lib/python3.11/dist-packages (from torch) (12.8.55)\n",
      "Requirement already satisfied: nvidia-nvjitlink-cu12==12.8.61 in /usr/local/lib/python3.11/dist-packages (from torch) (12.8.61)\n",
      "Requirement already satisfied: nvidia-cufile-cu12==1.13.0.11 in /usr/local/lib/python3.11/dist-packages (from torch) (1.13.0.11)\n",
      "Requirement already satisfied: triton==3.3.0 in /usr/local/lib/python3.11/dist-packages (from torch) (3.3.0)\n",
      "Requirement already satisfied: setuptools>=40.8.0 in /usr/local/lib/python3.11/dist-packages (from triton==3.3.0->torch) (75.2.0)\n",
      "Requirement already satisfied: numpy in /usr/local/lib/python3.11/dist-packages (from torchvision) (2.0.2)\n",
      "Requirement already satisfied: pillow!=8.3.*,>=5.3.0 in /usr/local/lib/python3.11/dist-packages (from torchvision) (11.1.0)\n",
      "Requirement already satisfied: mpmath<1.4,>=1.1.0 in /usr/local/lib/python3.11/dist-packages (from sympy>=1.13.3->torch) (1.3.0)\n",
      "Requirement already satisfied: MarkupSafe>=2.0 in /usr/local/lib/python3.11/dist-packages (from jinja2->torch) (3.0.2)\n"
     ]
    }
   ],
   "source": [
    "!pip3 install torch torchvision torchaudio --index-url https://download.pytorch.org/whl/cu128"
   ]
  },
  {
   "cell_type": "code",
   "execution_count": null,
   "metadata": {
    "colab": {
     "base_uri": "https://localhost:8080/"
    },
    "executionInfo": {
     "elapsed": 2917,
     "status": "ok",
     "timestamp": 1745818153096,
     "user": {
      "displayName": "Lê Quốc Khánh Nguyễn",
      "userId": "01151403903774579142"
     },
     "user_tz": -420
    },
    "id": "VTRy3UGVx-27",
    "outputId": "0224dc4f-fe0c-44b4-92f0-e02b6189a810"
   },
   "outputs": [
    {
     "name": "stdout",
     "output_type": "stream",
     "text": [
      "Requirement already satisfied: matplotlib in /usr/local/lib/python3.11/dist-packages (3.10.0)\n",
      "Requirement already satisfied: scikit-learn in /usr/local/lib/python3.11/dist-packages (1.6.1)\n",
      "Requirement already satisfied: seaborn in /usr/local/lib/python3.11/dist-packages (0.13.2)\n",
      "Requirement already satisfied: contourpy>=1.0.1 in /usr/local/lib/python3.11/dist-packages (from matplotlib) (1.3.2)\n",
      "Requirement already satisfied: cycler>=0.10 in /usr/local/lib/python3.11/dist-packages (from matplotlib) (0.12.1)\n",
      "Requirement already satisfied: fonttools>=4.22.0 in /usr/local/lib/python3.11/dist-packages (from matplotlib) (4.57.0)\n",
      "Requirement already satisfied: kiwisolver>=1.3.1 in /usr/local/lib/python3.11/dist-packages (from matplotlib) (1.4.8)\n",
      "Requirement already satisfied: numpy>=1.23 in /usr/local/lib/python3.11/dist-packages (from matplotlib) (2.0.2)\n",
      "Requirement already satisfied: packaging>=20.0 in /usr/local/lib/python3.11/dist-packages (from matplotlib) (24.2)\n",
      "Requirement already satisfied: pillow>=8 in /usr/local/lib/python3.11/dist-packages (from matplotlib) (11.1.0)\n",
      "Requirement already satisfied: pyparsing>=2.3.1 in /usr/local/lib/python3.11/dist-packages (from matplotlib) (3.2.3)\n",
      "Requirement already satisfied: python-dateutil>=2.7 in /usr/local/lib/python3.11/dist-packages (from matplotlib) (2.8.2)\n",
      "Requirement already satisfied: scipy>=1.6.0 in /usr/local/lib/python3.11/dist-packages (from scikit-learn) (1.14.1)\n",
      "Requirement already satisfied: joblib>=1.2.0 in /usr/local/lib/python3.11/dist-packages (from scikit-learn) (1.4.2)\n",
      "Requirement already satisfied: threadpoolctl>=3.1.0 in /usr/local/lib/python3.11/dist-packages (from scikit-learn) (3.6.0)\n",
      "Requirement already satisfied: pandas>=1.2 in /usr/local/lib/python3.11/dist-packages (from seaborn) (2.2.2)\n",
      "Requirement already satisfied: pytz>=2020.1 in /usr/local/lib/python3.11/dist-packages (from pandas>=1.2->seaborn) (2025.2)\n",
      "Requirement already satisfied: tzdata>=2022.7 in /usr/local/lib/python3.11/dist-packages (from pandas>=1.2->seaborn) (2025.2)\n",
      "Requirement already satisfied: six>=1.5 in /usr/local/lib/python3.11/dist-packages (from python-dateutil>=2.7->matplotlib) (1.17.0)\n"
     ]
    }
   ],
   "source": [
    "!pip3 install matplotlib scikit-learn seaborn"
   ]
  },
  {
   "cell_type": "code",
   "execution_count": null,
   "metadata": {
    "id": "M__UVIY5yc5c"
   },
   "outputs": [],
   "source": [
    "import torch\n",
    "import torch.nn as nn\n",
    "import torch.nn.functional as F\n",
    "import torch.optim as optim\n",
    "\n",
    "import torchvision\n",
    "import torchvision.transforms as transforms"
   ]
  },
  {
   "cell_type": "code",
   "execution_count": null,
   "metadata": {
    "colab": {
     "base_uri": "https://localhost:8080/"
    },
    "executionInfo": {
     "elapsed": 57,
     "status": "ok",
     "timestamp": 1745818351457,
     "user": {
      "displayName": "Lê Quốc Khánh Nguyễn",
      "userId": "01151403903774579142"
     },
     "user_tz": -420
    },
    "id": "p4kDEpIa4Iyl",
    "outputId": "1ddec3eb-ea77-4008-944c-370775beb9f3"
   },
   "outputs": [
    {
     "name": "stdout",
     "output_type": "stream",
     "text": [
      "Use device: cuda\n"
     ]
    }
   ],
   "source": [
    "device = torch.device(\"cuda\" if torch.cuda.is_available() else \"cpu\")\n",
    "print(f\"Use device: {device}\")"
   ]
  },
  {
   "cell_type": "code",
   "execution_count": 9,
   "metadata": {
    "executionInfo": {
     "elapsed": 2,
     "status": "ok",
     "timestamp": 1745818627112,
     "user": {
      "displayName": "Lê Quốc Khánh Nguyễn",
      "userId": "01151403903774579142"
     },
     "user_tz": -420
    },
    "id": "1i7ZPUgW4Kh4"
   },
   "outputs": [],
   "source": [
    "root_directory = \"/content/drive/MyDrive/Colab Notebooks/pizza_classifier/\""
   ]
  },
  {
   "cell_type": "code",
   "execution_count": 5,
   "metadata": {
    "executionInfo": {
     "elapsed": 16,
     "status": "ok",
     "timestamp": 1745818523929,
     "user": {
      "displayName": "Lê Quốc Khánh Nguyễn",
      "userId": "01151403903774579142"
     },
     "user_tz": -420
    },
    "id": "xUXKqtwI5G85"
   },
   "outputs": [],
   "source": [
    "\n",
    "# Định nghĩa transformation để huấn luyện model\n",
    "# Giúp cho việc nhận diện hình ảnh trong nhiều trường hợp hơn. Bằng cách\n",
    "#   - Cắt ảnh nhỏ hơn để kiểm nhận ra\n",
    "#   - Lật ảnh\n",
    "#   - Xoay ảnh\n",
    "#   - Ảnh có ánh sáng ±1, tương phản ±1, xoay ảnh ±10°\n",
    "#   - Đổi góc nhìn ảnh bằng Affine\n",
    "#   - Đổi góc nhìn ảnh bằng Perspective\n",
    "transform_train = transforms.Compose([\n",
    "    transforms.RandomResizedCrop(224, scale=(0.8, 1.0)),  # Cắt ngẫu nhiên và resize\n",
    "    transforms.RandomHorizontalFlip(),  # Lật ngang ngẫu nhiên\n",
    "    # transforms.RandomRotation(10),      # Xoay ngẫu nhiên\n",
    "    transforms.ColorJitter(\n",
    "        brightness=0.1,                 # Thay đổi độ sáng 10%\n",
    "        contrast=0.1,                   # Thay đổi độ tương phản 10%\n",
    "        saturation=0.1,                 # Thay đổi độ bão hoà 10%\n",
    "        hue=0.05\n",
    "    ),\n",
    "    # Choose only one geometric transformation with 50% probability\n",
    "    transforms.RandomApply([\n",
    "        transforms.RandomChoice([\n",
    "            transforms.RandomRotation(5),  # Reduced rotation angle\n",
    "            transforms.RandomAffine(\n",
    "                degrees=0,\n",
    "                translate=(0.05, 0.05),    # Reduced translation\n",
    "                scale=(0.95, 1.05)         # Reduced scaling\n",
    "            ),\n",
    "            transforms.RandomPerspective(\n",
    "                distortion_scale=0.1,      # Reduced distortion\n",
    "                p=0.5\n",
    "            )\n",
    "        ])\n",
    "    ], p=0.5),\n",
    "    # transforms.RandomAffine(            # Thay đổi góc ảnh bằng Affine\n",
    "    #     degrees=0,\n",
    "    #     translate=(0.1, 0.1),\n",
    "    #     scale=(0.9, 1.1)\n",
    "    # ),\n",
    "    # transforms.RandomPerspective(       # Thay đổi góc ảnh bằng Perspective\n",
    "    #     distortion_scale=0.2,\n",
    "    #     p=0.5\n",
    "    # ),\n",
    "    transforms.ToTensor(),              # Chuyển ảnh thành dữ liệu cho Pytorch\n",
    "    transforms.Normalize(\n",
    "        mean=[0.485, 0.456, 0.406],\n",
    "        std=[0.229, 0.224, 0.225]\n",
    "    )\n",
    "])"
   ]
  },
  {
   "cell_type": "code",
   "execution_count": 6,
   "metadata": {
    "executionInfo": {
     "elapsed": 8,
     "status": "ok",
     "timestamp": 1745818529595,
     "user": {
      "displayName": "Lê Quốc Khánh Nguyễn",
      "userId": "01151403903774579142"
     },
     "user_tz": -420
    },
    "id": "o8-NRELa5Jgo"
   },
   "outputs": [],
   "source": [
    "# Định nghĩa transform để test\n",
    "transform_test = transforms.Compose([\n",
    "    transforms.Resize((224, 224)),\n",
    "    transforms.ToTensor(),\n",
    "    transforms.Normalize(mean=[0.485, 0.456, 0.406], std=[0.229, 0.224, 0.225])\n",
    "])"
   ]
  },
  {
   "cell_type": "code",
   "execution_count": 10,
   "metadata": {
    "executionInfo": {
     "elapsed": 52,
     "status": "ok",
     "timestamp": 1745818629618,
     "user": {
      "displayName": "Lê Quốc Khánh Nguyễn",
      "userId": "01151403903774579142"
     },
     "user_tz": -420
    },
    "id": "hSwBJKYd5K5W"
   },
   "outputs": [],
   "source": [
    "# Tạo dataset từ thư mục chứa hình ảnh\n",
    "# Thư mục data với 2 thư mục con: pizza và not_pizza\n",
    "data_directory = \"data\"\n",
    "# Tạo dataset mới với data augmentation\n",
    "train_dataset_aug = torchvision.datasets.ImageFolder(\n",
    "    root=root_directory+data_directory,\n",
    "    transform=transform_train\n",
    ")\n",
    "\n",
    "test_dataset_aug = torchvision.datasets.ImageFolder(\n",
    "    root=root_directory+data_directory,\n",
    "    transform=transform_test\n",
    ")"
   ]
  },
  {
   "cell_type": "code",
   "execution_count": 11,
   "metadata": {
    "executionInfo": {
     "elapsed": 7,
     "status": "ok",
     "timestamp": 1745818752391,
     "user": {
      "displayName": "Lê Quốc Khánh Nguyễn",
      "userId": "01151403903774579142"
     },
     "user_tz": -420
    },
    "id": "_JKiVmrf5Pkr"
   },
   "outputs": [],
   "source": [
    "# Lưu lại các tên dataset có trong thư mục data(pizza, not_pizza)\n",
    "# data\n",
    "# ├───not_pizza\n",
    "# └───pizza\n",
    "classes = train_dataset_aug.classes"
   ]
  },
  {
   "cell_type": "code",
   "execution_count": 12,
   "metadata": {
    "executionInfo": {
     "elapsed": 3,
     "status": "ok",
     "timestamp": 1745818763365,
     "user": {
      "displayName": "Lê Quốc Khánh Nguyễn",
      "userId": "01151403903774579142"
     },
     "user_tz": -420
    },
    "id": "ky6kbt0e6BSj"
   },
   "outputs": [],
   "source": [
    "# Chia dataset thành training set và test set\n",
    "# Chia dataset\n",
    "train_size = int(0.8 * len(train_dataset_aug))\n",
    "test_size = len(train_dataset_aug) - train_size\n",
    "train_dataset_aug, _ = torch.utils.data.random_split(train_dataset_aug, [train_size, test_size])\n",
    "_, test_dataset_aug = torch.utils.data.random_split(test_dataset_aug, [train_size, test_size])"
   ]
  },
  {
   "cell_type": "code",
   "execution_count": 13,
   "metadata": {
    "executionInfo": {
     "elapsed": 2,
     "status": "ok",
     "timestamp": 1745818770912,
     "user": {
      "displayName": "Lê Quốc Khánh Nguyễn",
      "userId": "01151403903774579142"
     },
     "user_tz": -420
    },
    "id": "Fd6lD1AX6D-C"
   },
   "outputs": [],
   "source": [
    "# Tạo DataLoader mới\n",
    "batch_size = 64\n",
    "train_loader_aug = torch.utils.data.DataLoader(\n",
    "    train_dataset_aug,\n",
    "    batch_size=batch_size,\n",
    "    shuffle=True\n",
    ")\n",
    "\n",
    "test_loader_aug = torch.utils.data.DataLoader(\n",
    "    test_dataset_aug,\n",
    "    batch_size=batch_size,\n",
    "    shuffle=False\n",
    ")"
   ]
  },
  {
   "cell_type": "code",
   "execution_count": null,
   "metadata": {
    "executionInfo": {
     "elapsed": 63,
     "status": "ok",
     "timestamp": 1745818806777,
     "user": {
      "displayName": "Lê Quốc Khánh Nguyễn",
      "userId": "01151403903774579142"
     },
     "user_tz": -420
    },
    "id": "Sm4VNCg36Fzr"
   },
   "outputs": [],
   "source": [
    "\n",
    "# Tạo một class PizzaClassifier để qua quá trình train\n",
    "class PizzaClassifier(nn.Module):\n",
    "    def __init__(self):\n",
    "        super(PizzaClassifier, self).__init__()\n",
    "        # Lớp tích chập đầu tiên\n",
    "        # Đầu vào là ảnh có kích thước 224x224x3 (3 ở đây là channel mày RGB)\n",
    "        # Đầu ra là ma trận có kích thước 224x224x32\n",
    "        self.convolutional_1 = nn.Conv2d(3, 32, kernel_size=3, padding=1)\n",
    "        # Lớp gộp đầu tiên\n",
    "        # Đầu vào là ma trận có kích thước 224x224x32 (từ lớp chập đầu tiên)\n",
    "        # Đầu ra là ma trận có kích thước 112x112x32\n",
    "        self.pooling_1 = nn.MaxPool2d(kernel_size=2, stride=2)\n",
    "\n",
    "        # Lớp tích chập thứ hai\n",
    "        # Đầu vào là ma trận có kích thước 112x112x32 (từ gộp đầu tiên)\n",
    "        # Đầu ra là ma trận có kích thước 112x112x64\n",
    "        self.convolutional_2 = nn.Conv2d(32, 64, kernel_size=3, padding=1)\n",
    "        # Lớp gộp thứ hai\n",
    "        # Đầu vào là ma trận có kích thước 112x112x64 (từ chập thứ 2)\n",
    "        # Đầu ra là ma trận có kích thước 56x56x64\n",
    "        self.pooling_2 = nn.MaxPool2d(kernel_size=2, stride=2)\n",
    "\n",
    "        # Lớp tích nhập thứ 3\n",
    "        # Đầu vào là ma trận có kích thước 56x56x64 (từ gộp thứ 2)\n",
    "        # Đầu ra là ma trận có kích thước 56x56x128\n",
    "        self.convolutional_3 = nn.Conv2d(64, 128, kernel_size=3, padding=1)\n",
    "        # Lớp gộp thứ 3\n",
    "        # Đầu vào là ma trận có kích thước 56x56x128 (từ chập thứ 3)\n",
    "        # Đầu ra là ma trận có kích thước 28x28x128\n",
    "        self.pooling_3 = nn.MaxPool2d(kernel_size=2, stride=2)\n",
    "\n",
    "        # Lớp fully connected (linear)\n",
    "        # Kích thước đầu vào: 128 * (224/8) * (224/8) = 128 * 28 * 28\n",
    "        self.fully_connected_1 = nn.Linear(128 * 28 * 28, 512)\n",
    "        self.fully_connected_2 = nn.Linear(512, 2)  # 2 lớp đầu ra: pizza và không phải pizza\n",
    "\n",
    "        # Dropout để giảm overfitting\n",
    "        self.dropout = nn.Dropout(0.5)\n",
    "\n",
    "    def forward(self, x):\n",
    "        # Truyền dữ liệu qua các lớp tích chập\n",
    "        x = self.pooling_1(F.relu(self.convolutional_1(x)))\n",
    "        x = self.pooling_2(F.relu(self.convolutional_2(x)))\n",
    "        x = self.pooling_3(F.relu(self.convolutional_3(x)))\n",
    "\n",
    "        # Làm phẳng, chuyển ma trận 28x28x128 thành mảng 1 chiều\n",
    "        x = x.view(-1, 128 * 28 * 28)\n",
    "\n",
    "        # Đi qua các lớp fully connected\n",
    "        x = F.relu(self.fully_connected_1(x))\n",
    "        x = self.dropout(x)\n",
    "        x = self.fully_connected_2(x)\n",
    "\n",
    "        return x"
   ]
  },
  {
   "cell_type": "code",
   "execution_count": 18,
   "metadata": {
    "executionInfo": {
     "elapsed": 926,
     "status": "ok",
     "timestamp": 1745819098942,
     "user": {
      "displayName": "Lê Quốc Khánh Nguyễn",
      "userId": "01151403903774579142"
     },
     "user_tz": -420
    },
    "id": "tpdEk-PV6OjS"
   },
   "outputs": [],
   "source": [
    "# Khởi tạo mô hình\n",
    "model_aug = PizzaClassifier().to(device)\n",
    "\n",
    "# Định nghĩa hàm mất mát (loss function)\n",
    "# https://pytorch.org/docs/stable/nn.html#loss-functions\n",
    "# Tìm hiểu sau\n",
    "criterion = nn.CrossEntropyLoss()\n",
    "\n",
    "# Định nghĩa thuật toán tối ưu hóa (optimizer)\n",
    "# https://pytorch.org/docs/stable/optim.html#algorithms\n",
    "# Tìm hiểu sau\n",
    "optimizer_aug = optim.Adam(model_aug.parameters(), lr=0.001)\n",
    "\n",
    "scheduler_aug = optim.lr_scheduler.ReduceLROnPlateau(optimizer_aug, mode='min', factor=0.1, patience=5)"
   ]
  },
  {
   "cell_type": "code",
   "execution_count": 16,
   "metadata": {
    "executionInfo": {
     "elapsed": 56,
     "status": "ok",
     "timestamp": 1745818854190,
     "user": {
      "displayName": "Lê Quốc Khánh Nguyễn",
      "userId": "01151403903774579142"
     },
     "user_tz": -420
    },
    "id": "i3MK3Tzt6UiG"
   },
   "outputs": [],
   "source": [
    "# Định nghĩa hàm train model\n",
    "def train_model(device, model, train_loader, test_loader, criterion, optimizer, scheduler, num_epochs=10):\n",
    "    # Lưu trữ lịch sử loss và accuracy\n",
    "    train_losses = []\n",
    "    test_losses = []\n",
    "    train_accs = []\n",
    "    test_accs = []\n",
    "\n",
    "    for epoch in range(num_epochs):\n",
    "        # TRAINING\n",
    "        model.train()  # Đặt mô hình ở chế độ train\n",
    "        running_loss = 0.0\n",
    "        correct = 0\n",
    "        total = 0\n",
    "\n",
    "        for i, (inputs, labels) in enumerate(train_loader):\n",
    "            inputs, labels = inputs.to(device), labels.to(device)\n",
    "\n",
    "            # Zero the parameter gradients\n",
    "            optimizer.zero_grad()\n",
    "\n",
    "            # Forward pass\n",
    "            outputs = model(inputs)\n",
    "            loss = criterion(outputs, labels)\n",
    "\n",
    "            # Backward pass và optimize\n",
    "            loss.backward()\n",
    "            optimizer.step()\n",
    "\n",
    "            # Tính toán loss và accuracy\n",
    "            running_loss += loss.item()\n",
    "            _, predicted = torch.max(outputs.data, 1)\n",
    "            total += labels.size(0)\n",
    "            correct += (predicted == labels).sum().item()\n",
    "\n",
    "            # Print sau mỗi 20 batches\n",
    "            if (i + 1) % 20 == 0:\n",
    "                print(f'Epoch [{epoch+1}/{num_epochs}], Batch [{i+1}/{len(train_loader)}], '\n",
    "                      f'Loss: {loss.item():.4f}')\n",
    "\n",
    "        # Tính train loss và accuracy cho epoch\n",
    "        epoch_train_loss = running_loss / len(train_loader)\n",
    "        epoch_train_acc = 100 * correct / total\n",
    "        train_losses.append(epoch_train_loss)\n",
    "        train_accs.append(epoch_train_acc)\n",
    "\n",
    "        # TESTING\n",
    "        model.eval()  # Đặt mô hình ở chế độ evaluation\n",
    "        test_loss = 0.0\n",
    "        correct = 0\n",
    "        total = 0\n",
    "\n",
    "        with torch.no_grad():  # Không tính gradient trong quá trình test\n",
    "            for inputs, labels in test_loader:\n",
    "                inputs, labels = inputs.to(device), labels.to(device)\n",
    "                outputs = model(inputs)\n",
    "                loss = criterion(outputs, labels)\n",
    "\n",
    "                # Tính toán loss và accuracy\n",
    "                test_loss += loss.item()\n",
    "                _, predicted = torch.max(outputs.data, 1)\n",
    "                total += labels.size(0)\n",
    "                correct += (predicted == labels).sum().item()\n",
    "\n",
    "        # Tính test loss và accuracy cho epoch\n",
    "        epoch_test_loss = test_loss / len(test_loader)\n",
    "        epoch_test_acc = 100 * correct / total\n",
    "        test_losses.append(epoch_test_loss)\n",
    "        test_accs.append(epoch_test_acc)\n",
    "\n",
    "        # Cập nhật learning rate dựa trên test loss\n",
    "        scheduler.step(epoch_test_loss)\n",
    "\n",
    "        # In thông tin sau mỗi epoch\n",
    "        print(f'Epoch [{epoch+1}/{num_epochs}], '\n",
    "              f'Train Loss: {epoch_train_loss:.4f}, Train Acc: {epoch_train_acc:.2f}%, '\n",
    "              f'Test Loss: {epoch_test_loss:.4f}, Test Acc: {epoch_test_acc:.2f}%')\n",
    "\n",
    "    return train_losses, test_losses, train_accs, test_accs"
   ]
  },
  {
   "cell_type": "code",
   "execution_count": 19,
   "metadata": {
    "colab": {
     "base_uri": "https://localhost:8080/"
    },
    "executionInfo": {
     "elapsed": 927877,
     "status": "ok",
     "timestamp": 1745820378068,
     "user": {
      "displayName": "Lê Quốc Khánh Nguyễn",
      "userId": "01151403903774579142"
     },
     "user_tz": -420
    },
    "id": "98HSFgOP6aIP",
    "outputId": "61e4f920-74b7-4cab-838b-ce9bbcd68ffb"
   },
   "outputs": [
    {
     "name": "stdout",
     "output_type": "stream",
     "text": [
      "Epoch [1/30], Batch [20/25], Loss: 0.6872\n",
      "Epoch [1/30], Train Loss: 1.2200, Train Acc: 50.89%, Test Loss: 0.6608, Test Acc: 53.55%\n",
      "Epoch [2/30], Batch [20/25], Loss: 0.6612\n",
      "Epoch [2/30], Train Loss: 0.6446, Train Acc: 64.44%, Test Loss: 0.6222, Test Acc: 64.47%\n",
      "Epoch [3/30], Batch [20/25], Loss: 0.6418\n",
      "Epoch [3/30], Train Loss: 0.6089, Train Acc: 68.19%, Test Loss: 0.5451, Test Acc: 74.37%\n",
      "Epoch [4/30], Batch [20/25], Loss: 0.5378\n",
      "Epoch [4/30], Train Loss: 0.5655, Train Acc: 71.50%, Test Loss: 0.5465, Test Acc: 75.38%\n",
      "Epoch [5/30], Batch [20/25], Loss: 0.5204\n",
      "Epoch [5/30], Train Loss: 0.5605, Train Acc: 72.84%, Test Loss: 0.4979, Test Acc: 75.38%\n",
      "Epoch [6/30], Batch [20/25], Loss: 0.6293\n",
      "Epoch [6/30], Train Loss: 0.5434, Train Acc: 74.24%, Test Loss: 0.4851, Test Acc: 78.43%\n",
      "Epoch [7/30], Batch [20/25], Loss: 0.4837\n",
      "Epoch [7/30], Train Loss: 0.5051, Train Acc: 75.57%, Test Loss: 0.4512, Test Acc: 80.96%\n",
      "Epoch [8/30], Batch [20/25], Loss: 0.5153\n",
      "Epoch [8/30], Train Loss: 0.4996, Train Acc: 76.84%, Test Loss: 0.4203, Test Acc: 80.46%\n",
      "Epoch [9/30], Batch [20/25], Loss: 0.4514\n",
      "Epoch [9/30], Train Loss: 0.4762, Train Acc: 78.44%, Test Loss: 0.3977, Test Acc: 82.74%\n",
      "Epoch [10/30], Batch [20/25], Loss: 0.4768\n",
      "Epoch [10/30], Train Loss: 0.4681, Train Acc: 77.35%, Test Loss: 0.3826, Test Acc: 81.73%\n",
      "Epoch [11/30], Batch [20/25], Loss: 0.4992\n",
      "Epoch [11/30], Train Loss: 0.4480, Train Acc: 80.34%, Test Loss: 0.3695, Test Acc: 84.01%\n",
      "Epoch [12/30], Batch [20/25], Loss: 0.4836\n",
      "Epoch [12/30], Train Loss: 0.4568, Train Acc: 78.05%, Test Loss: 0.3638, Test Acc: 82.74%\n",
      "Epoch [13/30], Batch [20/25], Loss: 0.4772\n",
      "Epoch [13/30], Train Loss: 0.4362, Train Acc: 80.28%, Test Loss: 0.3552, Test Acc: 84.52%\n",
      "Epoch [14/30], Batch [20/25], Loss: 0.5054\n",
      "Epoch [14/30], Train Loss: 0.4369, Train Acc: 80.73%, Test Loss: 0.3814, Test Acc: 81.98%\n",
      "Epoch [15/30], Batch [20/25], Loss: 0.3937\n",
      "Epoch [15/30], Train Loss: 0.4288, Train Acc: 81.30%, Test Loss: 0.3432, Test Acc: 82.99%\n",
      "Epoch [16/30], Batch [20/25], Loss: 0.4098\n",
      "Epoch [16/30], Train Loss: 0.4156, Train Acc: 80.85%, Test Loss: 0.3719, Test Acc: 82.49%\n",
      "Epoch [17/30], Batch [20/25], Loss: 0.3689\n",
      "Epoch [17/30], Train Loss: 0.4036, Train Acc: 82.19%, Test Loss: 0.3018, Test Acc: 85.79%\n",
      "Epoch [18/30], Batch [20/25], Loss: 0.4245\n",
      "Epoch [18/30], Train Loss: 0.3943, Train Acc: 82.51%, Test Loss: 0.3097, Test Acc: 85.03%\n",
      "Epoch [19/30], Batch [20/25], Loss: 0.4516\n",
      "Epoch [19/30], Train Loss: 0.3635, Train Acc: 83.97%, Test Loss: 0.2712, Test Acc: 88.83%\n",
      "Epoch [20/30], Batch [20/25], Loss: 0.4038\n",
      "Epoch [20/30], Train Loss: 0.3559, Train Acc: 84.67%, Test Loss: 0.2807, Test Acc: 86.55%\n",
      "Epoch [21/30], Batch [20/25], Loss: 0.2825\n",
      "Epoch [21/30], Train Loss: 0.3514, Train Acc: 85.05%, Test Loss: 0.2455, Test Acc: 90.10%\n",
      "Epoch [22/30], Batch [20/25], Loss: 0.4337\n",
      "Epoch [22/30], Train Loss: 0.3731, Train Acc: 82.82%, Test Loss: 0.3147, Test Acc: 82.99%\n",
      "Epoch [23/30], Batch [20/25], Loss: 0.4272\n",
      "Epoch [23/30], Train Loss: 0.3068, Train Acc: 87.47%, Test Loss: 0.2196, Test Acc: 90.86%\n",
      "Epoch [24/30], Batch [20/25], Loss: 0.3657\n",
      "Epoch [24/30], Train Loss: 0.3181, Train Acc: 86.64%, Test Loss: 0.2641, Test Acc: 89.59%\n",
      "Epoch [25/30], Batch [20/25], Loss: 0.3437\n",
      "Epoch [25/30], Train Loss: 0.2994, Train Acc: 87.34%, Test Loss: 0.2054, Test Acc: 90.61%\n",
      "Epoch [26/30], Batch [20/25], Loss: 0.2654\n",
      "Epoch [26/30], Train Loss: 0.2737, Train Acc: 88.93%, Test Loss: 0.1870, Test Acc: 92.13%\n",
      "Epoch [27/30], Batch [20/25], Loss: 0.1748\n",
      "Epoch [27/30], Train Loss: 0.2646, Train Acc: 88.68%, Test Loss: 0.1930, Test Acc: 90.86%\n",
      "Epoch [28/30], Batch [20/25], Loss: 0.2004\n",
      "Epoch [28/30], Train Loss: 0.2427, Train Acc: 90.20%, Test Loss: 0.2119, Test Acc: 91.88%\n",
      "Epoch [29/30], Batch [20/25], Loss: 0.3114\n",
      "Epoch [29/30], Train Loss: 0.2644, Train Acc: 88.87%, Test Loss: 0.2166, Test Acc: 89.09%\n",
      "Epoch [30/30], Batch [20/25], Loss: 0.2333\n",
      "Epoch [30/30], Train Loss: 0.2776, Train Acc: 88.74%, Test Loss: 0.1843, Test Acc: 93.40%\n"
     ]
    }
   ],
   "source": [
    "# Huấn luyện mô hình với data augmentation\n",
    "histories_aug = train_model(device, model_aug, train_loader_aug, test_loader_aug, criterion, optimizer_aug, scheduler_aug, num_epochs=30)\n"
   ]
  },
  {
   "cell_type": "code",
   "execution_count": 22,
   "metadata": {
    "executionInfo": {
     "elapsed": 1543,
     "status": "ok",
     "timestamp": 1745820682858,
     "user": {
      "displayName": "Lê Quốc Khánh Nguyễn",
      "userId": "01151403903774579142"
     },
     "user_tz": -420
    },
    "id": "7-I-Pimx6itX"
   },
   "outputs": [],
   "source": [
    "import matplotlib.pyplot as plt\n",
    "from sklearn.metrics import confusion_matrix, classification_report\n",
    "import seaborn as sns"
   ]
  },
  {
   "cell_type": "code",
   "execution_count": 23,
   "metadata": {
    "executionInfo": {
     "elapsed": 8,
     "status": "ok",
     "timestamp": 1745820684197,
     "user": {
      "displayName": "Lê Quốc Khánh Nguyễn",
      "userId": "01151403903774579142"
     },
     "user_tz": -420
    },
    "id": "rsZgsBST6crb"
   },
   "outputs": [],
   "source": [
    "def evaluate_model(model, test_loader, classes, device):\n",
    "    model.eval()\n",
    "    all_preds = []\n",
    "    all_labels = []\n",
    "\n",
    "    with torch.no_grad():\n",
    "        for inputs, labels in test_loader:\n",
    "            inputs, labels = inputs.to(device), labels.to(device)\n",
    "            outputs = model(inputs)\n",
    "            _, preds = torch.max(outputs, 1)\n",
    "\n",
    "            all_preds.extend(preds.cpu().numpy())\n",
    "            all_labels.extend(labels.cpu().numpy())\n",
    "\n",
    "    # Tạo confusion matrix\n",
    "    cm = confusion_matrix(all_labels, all_preds)\n",
    "\n",
    "    # Hiển thị confusion matrix\n",
    "    plt.figure(figsize=(8, 6))\n",
    "    sns.heatmap(cm, annot=True, fmt='d', cmap='Blues',\n",
    "                xticklabels=classes,\n",
    "                yticklabels=classes)\n",
    "    plt.xlabel('Predicted')\n",
    "    plt.ylabel('Actual')\n",
    "    plt.title('Confusion Matrix')\n",
    "    plt.show()\n",
    "\n",
    "    # In classification report\n",
    "    print(\"\\nClassification Report:\")\n",
    "    print(classification_report(all_labels, all_preds, target_names=classes))"
   ]
  },
  {
   "cell_type": "code",
   "execution_count": 24,
   "metadata": {
    "colab": {
     "base_uri": "https://localhost:8080/",
     "height": 755
    },
    "executionInfo": {
     "elapsed": 3515,
     "status": "ok",
     "timestamp": 1745820690592,
     "user": {
      "displayName": "Lê Quốc Khánh Nguyễn",
      "userId": "01151403903774579142"
     },
     "user_tz": -420
    },
    "id": "OHq8Eedr6frr",
    "outputId": "760f1436-4cab-430d-8b76-8eb8d300c298"
   },
   "outputs": [
    {
     "data": {
      "image/png": "[encoded data removed]",
      "text/plain": [
       "<Figure size 800x600 with 2 Axes>"
      ]
     },
     "metadata": {},
     "output_type": "display_data"
    },
    {
     "name": "stdout",
     "output_type": "stream",
     "text": [
      "\n",
      "Classification Report:\n",
      "              precision    recall  f1-score   support\n",
      "\n",
      "   not_pizza       0.93      0.94      0.93       192\n",
      "       pizza       0.94      0.93      0.94       202\n",
      "\n",
      "    accuracy                           0.93       394\n",
      "   macro avg       0.93      0.93      0.93       394\n",
      "weighted avg       0.93      0.93      0.93       394\n",
      "\n"
     ]
    }
   ],
   "source": [
    "# Đánh giá mô hình\n",
    "evaluate_model(model_aug, test_loader_aug, classes, device)"
   ]
  },
  {
   "cell_type": "code",
   "execution_count": 20,
   "metadata": {
    "executionInfo": {
     "elapsed": 583,
     "status": "ok",
     "timestamp": 1745820378665,
     "user": {
      "displayName": "Lê Quốc Khánh Nguyễn",
      "userId": "01151403903774579142"
     },
     "user_tz": -420
    },
    "id": "cC1Zrwtv6h4X"
   },
   "outputs": [],
   "source": [
    "# Lưu mô hình\n",
    "torch.save(model_aug.state_dict(), root_directory+'pizza_classifier.pth')\n",
    "\n",
    "# Lưu thông tin classes\n",
    "import json\n",
    "with open(root_directory+'pizza_classes.json', 'w') as f:\n",
    "    json.dump(classes, f)"
   ]
  },
  {
   "cell_type": "code",
   "execution_count": null,
   "metadata": {
    "id": "DioFdG_K6tYk"
   },
   "outputs": [],
   "source": []
  }
 ],
 "metadata": {
  "accelerator": "GPU",
  "colab": {
   "authorship_tag": "ABX9TyNSm+YVrJjoMrwErB7HYc2P",
   "gpuType": "T4",
   "provenance": []
  },
  "kernelspec": {
   "display_name": "Python 3",
   "name": "python3"
  },
  "language_info": {
   "name": "python"
  }
 },
 "nbformat": 4,
 "nbformat_minor": 0
}
